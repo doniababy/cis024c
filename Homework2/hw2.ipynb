{
 "cells": [
  {
   "cell_type": "markdown",
   "metadata": {},
   "source": [
    "## Exercise 1\n",
    "***Pgm to check a number >100 using if***"
   ]
  },
  {
   "cell_type": "code",
   "execution_count": 7,
   "metadata": {},
   "outputs": [
    {
     "name": "stdout",
     "output_type": "stream",
     "text": [
      "enter the number:22\n"
     ]
    }
   ],
   "source": [
    "number=int(raw_input(\"enter the number:\"))\n",
    "if number > 100:\n",
    "      print(\"Found a number greater than 100\")\n"
   ]
  },
  {
   "cell_type": "markdown",
   "metadata": {},
   "source": [
    "## Exercise 2\n",
    "***Pgm to check the name is Joe using if else***"
   ]
  },
  {
   "cell_type": "code",
   "execution_count": 10,
   "metadata": {},
   "outputs": [
    {
     "name": "stdout",
     "output_type": "stream",
     "text": [
      "Enter user name:harry\n",
      "User Joe was not entered\n"
     ]
    }
   ],
   "source": [
    "userName = raw_input(\"Enter user name:\")\n",
    "\n",
    "if userName == \"Joe\":\n",
    "    print \"User Joe was entered\"\n",
    "else:\n",
    "    print \"User Joe was not entered\""
   ]
  },
  {
   "cell_type": "markdown",
   "metadata": {},
   "source": [
    "## Exercise 3\n",
    "***Pgm to check the salary using if  elif else***"
   ]
  },
  {
   "cell_type": "code",
   "execution_count": 13,
   "metadata": {},
   "outputs": [
    {
     "name": "stdout",
     "output_type": "stream",
     "text": [
      "Enter your salary:80000\n",
      "User salary is less than 100000\n"
     ]
    }
   ],
   "source": [
    "userSal = int(raw_input(\"Enter your salary:\"))\n",
    "\n",
    "if userSal < 70000:\n",
    "    print \"User salary is less than 70000\"\n",
    "elif userSal < 100000:\n",
    "    print \"User salary is less than 100000\"\n",
    "else:\n",
    "    print \"User salary is greater than or equal to 100000\""
   ]
  },
  {
   "cell_type": "markdown",
   "metadata": {},
   "source": [
    "## Exercise 4\n",
    "***Pgm to find the sum of the numbers using for loop***"
   ]
  },
  {
   "cell_type": "code",
   "execution_count": 3,
   "metadata": {},
   "outputs": [
    {
     "name": "stdout",
     "output_type": "stream",
     "text": [
      "Enter a number:3\n",
      "Sum of the numbers till 3 is 6\n"
     ]
    }
   ],
   "source": [
    "number = int(raw_input(\"Enter a number:\"))\n",
    "n=number\n",
    "for index in range(1,n):\n",
    "    number = number + index\n",
    "    \n",
    "print \"Sum of the numbers till %s is %s\" % (n,number)"
   ]
  },
  {
   "cell_type": "markdown",
   "metadata": {},
   "source": [
    "## Exercise 5\n",
    "***Pgm to find the sum of the numbers using for loop***"
   ]
  },
  {
   "cell_type": "code",
   "execution_count": 1,
   "metadata": {},
   "outputs": [
    {
     "name": "stdout",
     "output_type": "stream",
     "text": [
      "Enter the number you guessed:4\n",
      "Sorry!Try again\n",
      "Enter the number you guessed:9\n",
      "Yippee!User guessed the right number\n"
     ]
    }
   ],
   "source": [
    "myNumber = 9\n",
    "while True:\n",
    "    number = int(raw_input(\"Enter the number you guessed:\"))\n",
    "    \n",
    "    if number == myNumber:\n",
    "        print \"Yippee!User guessed the right number\"\n",
    "        break\n",
    "    else:\n",
    "        print \"Sorry!Try again\""
   ]
  },
  {
   "cell_type": "markdown",
   "metadata": {
    "collapsed": true
   },
   "source": [
    "## Optional Exercise 1\n",
    "***Pgm to convert to and from celsius to fahrenheit***"
   ]
  },
  {
   "cell_type": "code",
   "execution_count": 7,
   "metadata": {},
   "outputs": [
    {
     "name": "stdout",
     "output_type": "stream",
     "text": [
      "Enter f if you want to convert to fahrenheit \n",
      " enter c if you want to convert to celsius:c\n",
      "Enter the temperature:60\n",
      "temperature coverted is 15.555556 \n"
     ]
    }
   ],
   "source": [
    "convertTo=str(raw_input(\"Enter f if you want to convert to fahrenheit \\n enter c if you want to convert to celsius:\"))\n",
    "if (convertTo !=\"c\" and convertTo !=\"f\"):\n",
    "    print \"Conversion string was wrong\"\n",
    "else:\n",
    "    temp=float(raw_input(\"Enter the temperature:\"))\n",
    "    convertTemp= float(0.0)\n",
    "    if(convertTo == \"f\"):\n",
    "        convertTemp=temp*1.8+32\n",
    "        print \"temperature coverted is %f \"% convertTemp\n",
    "    else:\n",
    "        convertTemp=((temp-32)*5)/9\n",
    "        print \"temperature coverted is %f \"% convertTemp\n",
    "    \n"
   ]
  },
  {
   "cell_type": "code",
   "execution_count": null,
   "metadata": {
    "collapsed": true
   },
   "outputs": [],
   "source": []
  }
 ],
 "metadata": {
  "kernelspec": {
   "display_name": "Python 2",
   "language": "python",
   "name": "python2"
  },
  "language_info": {
   "codemirror_mode": {
    "name": "ipython",
    "version": 2
   },
   "file_extension": ".py",
   "mimetype": "text/x-python",
   "name": "python",
   "nbconvert_exporter": "python",
   "pygments_lexer": "ipython2",
   "version": "2.7.13"
  }
 },
 "nbformat": 4,
 "nbformat_minor": 2
}
