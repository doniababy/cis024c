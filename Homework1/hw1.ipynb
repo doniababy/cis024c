{
 "cells": [
  {
   "cell_type": "code",
   "execution_count": 1,
   "metadata": {},
   "outputs": [
    {
     "name": "stdout",
     "output_type": "stream",
     "text": [
      "5 6\n"
     ]
    }
   ],
   "source": [
    "a=5\n",
    "b=6\n",
    "print a,b"
   ]
  },
  {
   "cell_type": "code",
   "execution_count": null,
   "metadata": {
    "collapsed": true
   },
   "outputs": [],
   "source": [
    "greeting=\"Hello\"\n",
    "person=\"Oscar\"\n",
    "print greeting,person"
   ]
  },
  {
   "cell_type": "code",
   "execution_count": null,
   "metadata": {
    "collapsed": true
   },
   "outputs": [],
   "source": [
    "greeting=\"Hello\\t\"\n",
    "person=\"Oscar\"\n",
    "personalGreeting=greeting+person\n",
    "print personalGreeting"
   ]
  },
  {
   "cell_type": "code",
   "execution_count": 1,
   "metadata": {},
   "outputs": [
    {
     "name": "stdout",
     "output_type": "stream",
     "text": [
      "Enter your age:22\n"
     ]
    },
    {
     "data": {
      "text/plain": [
       "22"
      ]
     },
     "execution_count": 1,
     "metadata": {},
     "output_type": "execute_result"
    }
   ],
   "source": [
    "input(\"Enter your age:\")\n"
   ]
  },
  {
   "cell_type": "code",
   "execution_count": 6,
   "metadata": {},
   "outputs": [
    {
     "name": "stdout",
     "output_type": "stream",
     "text": [
      "Enter your age:33\n",
      "Age: 33\n"
     ]
    }
   ],
   "source": [
    "age=int(input(\"Enter your age:\"))\n",
    "print \"Age:\",age"
   ]
  },
  {
   "cell_type": "code",
   "execution_count": 7,
   "metadata": {},
   "outputs": [
    {
     "name": "stdout",
     "output_type": "stream",
     "text": [
      "Enter your age:36\n",
      "age > 35\n"
     ]
    }
   ],
   "source": [
    "age=int(input(\"Enter your age:\"))\n",
    "if age>35:\n",
    "    print \"age > 35\"\n",
    "else:\n",
    "    print \"age < 35\"\n"
   ]
  },
  {
   "cell_type": "code",
   "execution_count": 8,
   "metadata": {},
   "outputs": [
    {
     "name": "stdout",
     "output_type": "stream",
     "text": [
      "Enter your age:66\n",
      "The age is greater than 35\n"
     ]
    }
   ],
   "source": [
    "age=int(input(\"Enter your age:\"))\n",
    "if age>35:\n",
    "    print \"The age is greater than 35\"\n",
    "else:\n",
    "    print \"The age is not greater than 35\""
   ]
  },
  {
   "cell_type": "code",
   "execution_count": 10,
   "metadata": {},
   "outputs": [
    {
     "name": "stdout",
     "output_type": "stream",
     "text": [
      "result after division : 2\n",
      "result after integer division : 2\n",
      "result after modulus operation : 2\n"
     ]
    }
   ],
   "source": [
    "number=10\n",
    "newNumber1=number/4\n",
    "print \"result after division :\",newNumber1\n",
    "newNumber2=number//4\n",
    "print \"result after integer division :\",newNumber2\n",
    "newNumber3=number%4\n",
    "print \"result after modulus operation :\",newNumber3\n"
   ]
  },
  {
   "cell_type": "code",
   "execution_count": 11,
   "metadata": {},
   "outputs": [
    {
     "name": "stdout",
     "output_type": "stream",
     "text": [
      "result after division : 25.3375\n",
      "result after integer division : 25.0\n",
      "result after modulus operation : 1.35\n"
     ]
    }
   ],
   "source": [
    "number=101.35\n",
    "newNumber1=number/4\n",
    "print \"result after division :\",newNumber1\n",
    "newNumber2=number//4\n",
    "print \"result after integer division :\",newNumber2\n",
    "newNumber3=number%4\n",
    "print \"result after modulus operation :\",newNumber3\n"
   ]
  },
  {
   "cell_type": "code",
   "execution_count": 18,
   "metadata": {},
   "outputs": [
    {
     "name": "stdout",
     "output_type": "stream",
     "text": [
      "My age and your age are not same\n",
      "My age and his age are not same\n"
     ]
    }
   ],
   "source": [
    "myAge=21\n",
    "yourAge=25\n",
    "if myAge==yourAge:\n",
    "    result=\"My age and your age are same\"\n",
    "else:\n",
    "    result=\"My age and your age are not same\"\n",
    "print result\n",
    "hisAge=25\n",
    "if myAge==hisAge:\n",
    "    result=\"My age and his age are same\"\n",
    "else:\n",
    "    result=\"My age and his age are not same\"\n",
    "print result"
   ]
  },
  {
   "cell_type": "code",
   "execution_count": null,
   "metadata": {
    "collapsed": true
   },
   "outputs": [],
   "source": []
  }
 ],
 "metadata": {
  "kernelspec": {
   "display_name": "Python 2",
   "language": "python",
   "name": "python2"
  },
  "language_info": {
   "codemirror_mode": {
    "name": "ipython",
    "version": 2
   },
   "file_extension": ".py",
   "mimetype": "text/x-python",
   "name": "python",
   "nbconvert_exporter": "python",
   "pygments_lexer": "ipython2",
   "version": "2.7.13"
  }
 },
 "nbformat": 4,
 "nbformat_minor": 2
}
