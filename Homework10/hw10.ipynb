{
 "cells": [
  {
   "cell_type": "markdown",
   "metadata": {},
   "source": [
    "\n",
    "# CIS024C - Fall 2017 - Thursday 5:30-9:25pm \n",
    "\n",
    "## Homework 10\n",
    "\n",
    "Homework 10 covers object oriented programming in Python\n",
    "\n",
    "The below sites have some interesting and useful information on working with files\n",
    "\n",
    "https://drive.google.com/open?id=1OrcpXEmhvgcJxSlchIBsvmXST0lG_uKx\n",
    "http://www.tutorialspoint.com/python/python_classes_objects.htm\n",
    "\n",
    "You will need to download this notebook and use this as a starting point for your homework. You will just need to fill in the content of each code-block (cell) and execute. Once you have completed all the exercises, you will need to save and upload this to your github repository under a folder called hw10.\n",
    "\n",
    "Note also the exercises build on top of one another so you might be able to do the next exercise if you have not completed the previous exercise.\n",
    "\n",
    "Post any questions you have on our Slack at **cis-024c1.slack.com**\n",
    "\n",
    "** Slides ** for Week 10 can be found at \n",
    "\n",
    "https://docs.google.com/presentation/d/1AigvCKV1yb3PrrcT5xt3IqyAwGpv6IKMNWYUiQ2Oy6k/edit?usp=sharing\n",
    "\n",
    "**Please refer back to hw1 and slack for instructions on how to setup your computer for developing using Python.**"
   ]
  },
  {
   "cell_type": "markdown",
   "metadata": {},
   "source": [
    "### Helpful Jupyter Commands\n",
    "\n",
    "Below are some useful commands to know when using Jupyter\n",
    "\n",
    "1. You can add a new cell by clicking on the \"+\" icon on top.\n",
    "2. You can delete a cell by selecting that cell and clicking on the \"scissors\" icon on top.\n",
    "3. You can execute a cell by either pressing shift+enter or selecting the \"play\" button on top.\n",
    "4. You can create a new file in Jupyter via the File menu->New Notebook option. Make sure to select Python 2 when creating your notebook.\n",
    "5. Also, for your code blocks make sure that Code is selected instead of another option like Markdown.\n",
    "6. Use the Enter key to go to the next line in a cell to enter the next statement.\n",
    "7. You can clear results by clicking on the Cell menu item and selecting Current Output->Clear or All Output->Clear depending on whether you are trying to just clear the output for one cell or for all cells.\n",
    "8. In case your program has crashed for some reason (infinite loop, for example), you can restart your Python session by select Kernel in the menu and selecting Restart.\n"
   ]
  },
  {
   "cell_type": "markdown",
   "metadata": {},
   "source": [
    "#### Check Python Version"
   ]
  },
  {
   "cell_type": "code",
   "execution_count": 1,
   "metadata": {},
   "outputs": [
    {
     "name": "stderr",
     "output_type": "stream",
     "text": [
      "Python 2.7.13 :: Anaconda 4.4.0 (64-bit)\n"
     ]
    }
   ],
   "source": [
    "!python --version"
   ]
  },
  {
   "cell_type": "markdown",
   "metadata": {},
   "source": [
    "#### Sample Exercises with Exception Handling\n",
    "\n",
    "Week 10 Class Work can be found here\n",
    "\n",
    "https://github.com/cis024c/fall2017classwork/blob/master/week10/week10_classwork.ipynb"
   ]
  },
  {
   "cell_type": "markdown",
   "metadata": {},
   "source": [
    "**Exercise 1 - Testing your knowledge of object oriented programming concepts **\n",
    "\n",
    "Answer the below questions\n",
    "\n",
    "1. Why do we need classes?\n",
    "2. What is encapsulation?"
   ]
  },
  {
   "cell_type": "markdown",
   "metadata": {},
   "source": [
    "1.To simulate real world problems we need classes.They help us reuse code instead of duplicating the code in all over the  program.Also helps to group functions(methods) that belong together.\n",
    "\n",
    "2.Encapsulation is the grouping of properties and methods into a class."
   ]
  },
  {
   "cell_type": "markdown",
   "metadata": {},
   "source": [
    "** Exercise 2 - Class creation **\n",
    "\n",
    "Create a Python class named **Employee** with the following attributes and methods\n",
    "\n",
    "Data members\n",
    "```\n",
    "1. employeeName  - type string\n",
    "2. employeeAge  - type int\n",
    "3. employeeSalary - type float\n",
    "```\n",
    "\n",
    "Methods:\n",
    "```\n",
    "1. getEmployee - returns employee name\n",
    "2. getEmployeeAge - gets the employee age\n",
    "3. getEmployeeSalary - returns the employee salary\n",
    "4. __init__ - initialize method accepts the name, age and salary of the employee\n",
    "```\n",
    "\n",
    "Create an object of type Employee and initialize with arbitrary values. Invoke the get methods and display the result."
   ]
  },
  {
   "cell_type": "code",
   "execution_count": 52,
   "metadata": {},
   "outputs": [
    {
     "name": "stdout",
     "output_type": "stream",
     "text": [
      "Mary\n",
      "30\n",
      "300\n"
     ]
    }
   ],
   "source": [
    "class Employee(object):\n",
    "   #constructor \n",
    "    def __init__(self,name,age,salary): \n",
    "        self.name = name\n",
    "        self.age = age\n",
    "        self.salary = salary\n",
    "        \n",
    "        \n",
    "    def getEmployee(self):\n",
    "        return self.name\n",
    "        \n",
    "    def getEmployeeAge(self):\n",
    "        return self.age\n",
    "        \n",
    "    def getEmployeeSalary(self):\n",
    "        return self.salary\n",
    "\n",
    "#initializing    \n",
    "x=Employee(\"Mary\",30,300)\n",
    "#invoking\n",
    "print (x.getEmployee())   \n",
    "print (x.getEmployeeAge())   \n",
    "print (x.getEmployeeSalary())  \n",
    "    \n",
    " "
   ]
  },
  {
   "cell_type": "markdown",
   "metadata": {},
   "source": [
    "#### Exercise 3 - Private members\n",
    "\n",
    "In the above **Employee** class make the employeeName, employeeAge and employeeSalary private so that their access is restricted to only within the class."
   ]
  },
  {
   "cell_type": "code",
   "execution_count": 53,
   "metadata": {},
   "outputs": [
    {
     "name": "stdout",
     "output_type": "stream",
     "text": [
      "Mary\n",
      "30\n",
      "300\n"
     ]
    }
   ],
   "source": [
    "class Employee(object):\n",
    "    \n",
    "    def __init__(self,name,age,salary): \n",
    "        self.__name = name\n",
    "        self.__age = age\n",
    "        self.__salary = salary\n",
    "     \n",
    "    def getEmployee(self):\n",
    "        return self.__name\n",
    "        \n",
    "    def getEmployeeAge(self):\n",
    "        return self.__age\n",
    "        \n",
    "    def getEmployeeSalary(self):\n",
    "        return self.__salary\n",
    "        \n",
    "x=Employee(\"Mary\",30,300)\n",
    "\n",
    "print x.getEmployee()   \n",
    "print x.getEmployeeAge()  \n",
    "print x.getEmployeeSalary()  \n"
   ]
  },
  {
   "cell_type": "markdown",
   "metadata": {},
   "source": [
    "#### Exercise 4 - Adding setters and working with a list of Employees\n",
    "\n",
    "In the **Employee** class add the following methods\n",
    "\n",
    "```\n",
    "1. setEmployeeAge - accepts age and sets it in the object\n",
    "2. setEmployeeName - accepts employee name and sets it in the object\n",
    "3. setEmployeeSalary - accepts employee salary and sets it i nthe object\n",
    "```\n",
    "\n",
    "Create a list of employees called employeeList. Initialize the list with three objects of type Employee. Initialize the object with the values \"None\" for employeeName, 0 for employeeAge and 0 for employeeSalary.\n",
    "\n",
    "Loop  through each employee in the employeeList. Each time, request the user to enter the name, age and salary of a different employee. Use the set methods to set the name, age and salary for each employee in the employeeList.\n",
    "\n",
    "Loop through each employee in the employeeList. Display the name, age and salary of each employee."
   ]
  },
  {
   "cell_type": "code",
   "execution_count": 51,
   "metadata": {},
   "outputs": [
    {
     "name": "stdout",
     "output_type": "stream",
     "text": [
      "Enter the name,Age and Salary:f,4,4\n",
      "Enter the name,Age and Salary:f,4,4\n",
      "Enter the name,Age and Salary:g,4,5\n",
      "Name of Employee: f\n",
      "Age of Employee: 4\n",
      "Salary of Employee: 4\n",
      "\n",
      "\n",
      "Name of Employee: f\n",
      "Age of Employee: 4\n",
      "Salary of Employee: 4\n",
      "\n",
      "\n",
      "Name of Employee: g\n",
      "Age of Employee: 4\n",
      "Salary of Employee: 5\n",
      "\n",
      "\n"
     ]
    }
   ],
   "source": [
    "class Employee(object):\n",
    "    \n",
    "    def __init__(self): \n",
    "        self.__name = \"None\"\n",
    "        self.__age = 0\n",
    "        self.__salary = 0\n",
    "        \n",
    "        \n",
    "    def getEmployee(self):\n",
    "        return self.__name\n",
    "        \n",
    "    def getEmployeeAge(self):\n",
    "        return self.__age\n",
    "        \n",
    "    def getEmployeeSalary(self):\n",
    "        return self.__salary\n",
    "    \n",
    "    def setEmployeeName(self,newName):\n",
    "        self.__name=newName\n",
    "        \n",
    "    def setEmployeeAge(self,newAge):\n",
    "        self.__age=newAge\n",
    "        \n",
    "    def setEmployeeSalary(self,newSalary):\n",
    "        self.__salary=newSalary\n",
    " \n",
    "employeeList=[]\n",
    "employeeList.append(Employee())\n",
    "employeeList.append(Employee())\n",
    "employeeList.append(Employee())\n",
    "\n",
    "xList=[]\n",
    "for i in employeeList:\n",
    "    x=raw_input(\"Enter the name,Age and Salary:\")\n",
    "    xList=x.split(\",\")\n",
    "    i.setEmployeeName(xList[0])\n",
    "    i.setEmployeeAge(xList[1])\n",
    "    i.setEmployeeSalary(xList[2])\n",
    "\n",
    "for j in range (len(employeeList)):\n",
    "    e =employeeList[j]\n",
    "    print \"Name of Employee:\",e.getEmployee()\n",
    "    print \"Age of Employee:\",e.getEmployeeAge()\n",
    "    print \"Salary of Employee:\",e.getEmployeeSalary()\n",
    "    print \"\\n\""
   ]
  },
  {
   "cell_type": "markdown",
   "metadata": {},
   "source": [
    "#### Exercise 5 -  Creating a Python calculator class\n",
    "\n",
    "Create a Python class called Calculator. \n",
    "\n",
    "The class has the following data members\n",
    "\n",
    "```\n",
    "1. number1 - type float\n",
    "2. number2 - type float\n",
    "```\n",
    "\n",
    "The class must have the below methods\n",
    "\n",
    "```\n",
    "1. add - adds two numbers and returns the result\n",
    "2. subtract - subtracts the first number from the second number and returns the result\n",
    "3. multiply - multiply two numbers and returns the result\n",
    "4. divide - divide the first number by the second number and returns the result\n",
    "5. __init__ - accepts two numbers and uses those numbers to initialize number1 and number2 respectively\n",
    "```\n",
    "\n",
    "Create an object of the Calculator class. Initialize it with any two arbitrary numbers. Invoke the methods add, subtract, multiple and divide and display the result\n",
    "\n",
    "\n"
   ]
  },
  {
   "cell_type": "code",
   "execution_count": 42,
   "metadata": {},
   "outputs": [
    {
     "name": "stdout",
     "output_type": "stream",
     "text": [
      "Addition: 9\n",
      "Subtraction: 3\n",
      "Multiplication: 18\n",
      "Division: 2\n"
     ]
    }
   ],
   "source": [
    "class Calculator(object):\n",
    "    \n",
    "    def __init__(self,number1,number2):\n",
    "        self.__number1=number1\n",
    "        self.__number2=number2\n",
    "        \n",
    "    def add(self):\n",
    "        return self.__number1 +self.__number2\n",
    "    \n",
    "    def subtract(self):\n",
    "        return self.__number1 -self.__number2\n",
    "    \n",
    "    def multiply(self):\n",
    "         return self.__number1 *self.__number2\n",
    "        \n",
    "    def divide(self):\n",
    "         return self.__number1 /self.__number2\n",
    "    \n",
    "    \n",
    "x=Calculator(6,3)\n",
    "\n",
    "print\"Addition:\", x.add()\n",
    "print \"Subtraction:\",x.subtract()\n",
    "print \"Multiplication:\",x.multiply()\n",
    "print \"Division:\",x.divide()\n"
   ]
  },
  {
   "cell_type": "code",
   "execution_count": null,
   "metadata": {
    "collapsed": true
   },
   "outputs": [],
   "source": []
  }
 ],
 "metadata": {
  "kernelspec": {
   "display_name": "Python 2",
   "language": "python",
   "name": "python2"
  },
  "language_info": {
   "codemirror_mode": {
    "name": "ipython",
    "version": 2
   },
   "file_extension": ".py",
   "mimetype": "text/x-python",
   "name": "python",
   "nbconvert_exporter": "python",
   "pygments_lexer": "ipython2",
   "version": "2.7.13"
  }
 },
 "nbformat": 4,
 "nbformat_minor": 2
}
