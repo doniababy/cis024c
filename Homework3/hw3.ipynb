{
 "cells": [
  {
   "cell_type": "code",
   "execution_count": 1,
   "metadata": {},
   "outputs": [
    {
     "name": "stderr",
     "output_type": "stream",
     "text": [
      "Python 2.7.13 :: Anaconda 4.4.0 (64-bit)\n"
     ]
    }
   ],
   "source": [
    "!python --version"
   ]
  },
  {
   "cell_type": "markdown",
   "metadata": {},
   "source": [
    "## Exercise 1\n",
    "***Pgm to compare the ages of 3 persons using logical and,or,not***"
   ]
  },
  {
   "cell_type": "code",
   "execution_count": 2,
   "metadata": {},
   "outputs": [
    {
     "name": "stdout",
     "output_type": "stream",
     "text": [
      "Enter Harry's age:20\n",
      "Enter Sally's age:19\n",
      "Enter Mary's age:33\n",
      "Either Sally or Mary is older than 30\n"
     ]
    }
   ],
   "source": [
    "harryAge = int(raw_input(\"Enter Harry's age:\"))\n",
    "sallyAge = int(raw_input(\"Enter Sally's age:\"))\n",
    "maryAge = int(raw_input(\"Enter Mary's age:\")) \n",
    "if harryAge < 20 and sallyAge < 20:\n",
    "    print \"Harry and Sally are less than 20 years old\" \n",
    "    \n",
    "if sallyAge > 30 or maryAge > 30:\n",
    "    print \"Either Sally or Mary is older than 30\"  "
   ]
  },
  {
   "cell_type": "markdown",
   "metadata": {
    "collapsed": true
   },
   "source": [
    "## Exercise 2\n",
    "***Pgm to find the length of a given string***"
   ]
  },
  {
   "cell_type": "code",
   "execution_count": null,
   "metadata": {
    "collapsed": true
   },
   "outputs": [],
   "source": [
    "import string\n",
    "\n",
    "name = raw_input(\"Enter your first name:\")\n",
    "\n",
    "print \"Number of characters in first name:\",len(name)"
   ]
  },
  {
   "cell_type": "markdown",
   "metadata": {},
   "source": [
    "## Exercise 3\n",
    "***Pgm to reverse a string***"
   ]
  },
  {
   "cell_type": "code",
   "execution_count": 6,
   "metadata": {},
   "outputs": [
    {
     "name": "stdout",
     "output_type": "stream",
     "text": [
      "Enter your favorite movie:finding the nimo\n",
      "Reversed string : omin eht gnidnif\n"
     ]
    }
   ],
   "source": [
    "import string\n",
    "\n",
    "movieName = raw_input(\"Enter your favorite movie:\")\n",
    "print \"Reversed string :\", movieName[::-1]\n"
   ]
  },
  {
   "cell_type": "markdown",
   "metadata": {},
   "source": [
    "## Exercise 4\n",
    "***Pgm to Convert an input string to lower case and looking for a match***"
   ]
  },
  {
   "cell_type": "code",
   "execution_count": 2,
   "metadata": {},
   "outputs": [
    {
     "name": "stdout",
     "output_type": "stream",
     "text": [
      "Enter a line of text:jack and jill went up\n",
      "Enter the search string:Up\n",
      "Line of text in lower Case: jack and jill went up\n",
      "Search string found\n"
     ]
    }
   ],
   "source": [
    "import string\n",
    "\n",
    "text = raw_input(\"Enter a line of text:\")\n",
    "searchString = raw_input(\"Enter the search string:\")\n",
    "text=text.lower()\n",
    "print \"Line of text in lower Case:\",text\n",
    "\n",
    "found=False\n",
    "words = text.split()\n",
    "for word in words:\n",
    "    if word == searchString.lower():\n",
    "        print(\"Search string found\")\n",
    "        found=True\n",
    "        break\n",
    "        \n",
    "if found==False:\n",
    "    print(\"Search string not found\")\n",
    "        "
   ]
  },
  {
   "cell_type": "markdown",
   "metadata": {},
   "source": [
    "## Exercise 5\n",
    "***Pgm to  Parse a comma separated set of values***"
   ]
  },
  {
   "cell_type": "code",
   "execution_count": 8,
   "metadata": {},
   "outputs": [
    {
     "name": "stdout",
     "output_type": "stream",
     "text": [
      "Enter a comma separated set of grocery list and type quit to exit:milk,dog,hat\n",
      "Last item in the list: hat\n",
      "Enter a comma separated set of grocery list and type quit to exit:quit\n",
      "User ended session.\n"
     ]
    }
   ],
   "source": [
    "groceryList=\"\"\n",
    "\n",
    "while True:\n",
    "    groceryList = raw_input(\"Enter a comma separated set of grocery list and type quit to exit:\")\n",
    "\n",
    "    if groceryList == \"quit\":\n",
    "        print \"User ended session.\"\n",
    "        break\n",
    "                         \n",
    "    items = groceryList.split(\",\")\n",
    "    print \"Last item in the list:\",items[-1]"
   ]
  }
 ],
 "metadata": {
  "kernelspec": {
   "display_name": "Python 2",
   "language": "python",
   "name": "python2"
  },
  "language_info": {
   "codemirror_mode": {
    "name": "ipython",
    "version": 2
   },
   "file_extension": ".py",
   "mimetype": "text/x-python",
   "name": "python",
   "nbconvert_exporter": "python",
   "pygments_lexer": "ipython2",
   "version": "2.7.13"
  }
 },
 "nbformat": 4,
 "nbformat_minor": 2
}
